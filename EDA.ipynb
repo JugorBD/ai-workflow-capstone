{
 "cells": [
  {
   "cell_type": "code",
   "execution_count": 8,
   "metadata": {},
   "outputs": [],
   "source": [
    "import os\n",
    "import numpy as np\n",
    "import pandas as pd\n",
    "import matplotlib.pyplot as plt\n",
    "import missingno as msno\n",
    "import seaborn as sns\n",
    "import warnings\n",
    "warnings.filterwarnings('ignore')\n",
    "\n",
    "DATA_DIR_TRAIN = os.path.join(\"..\", \"data\", 'cs-train')\n",
    "DATA_DIR_PROD = os.path.join(\"..\", \"data\", 'cs-production')"
   ]
  },
  {
   "cell_type": "code",
   "execution_count": 11,
   "metadata": {},
   "outputs": [
    {
     "data": {
      "text/html": [
       "<div>\n",
       "<style scoped>\n",
       "    .dataframe tbody tr th:only-of-type {\n",
       "        vertical-align: middle;\n",
       "    }\n",
       "\n",
       "    .dataframe tbody tr th {\n",
       "        vertical-align: top;\n",
       "    }\n",
       "\n",
       "    .dataframe thead th {\n",
       "        text-align: right;\n",
       "    }\n",
       "</style>\n",
       "<table border=\"1\" class=\"dataframe\">\n",
       "  <thead>\n",
       "    <tr style=\"text-align: right;\">\n",
       "      <th></th>\n",
       "      <th>country</th>\n",
       "      <th>customer_id</th>\n",
       "      <th>invoice</th>\n",
       "      <th>price</th>\n",
       "      <th>stream_id</th>\n",
       "      <th>times_viewed</th>\n",
       "      <th>year</th>\n",
       "      <th>month</th>\n",
       "      <th>day</th>\n",
       "      <th>price</th>\n",
       "      <th>stream_id</th>\n",
       "      <th>times_viewed</th>\n",
       "    </tr>\n",
       "  </thead>\n",
       "  <tbody>\n",
       "    <tr>\n",
       "      <th>0</th>\n",
       "      <td>United Kingdom</td>\n",
       "      <td>13085.0</td>\n",
       "      <td>489434</td>\n",
       "      <td>6.95</td>\n",
       "      <td>85048</td>\n",
       "      <td>12.0</td>\n",
       "      <td>2017</td>\n",
       "      <td>11</td>\n",
       "      <td>28</td>\n",
       "      <td>NaN</td>\n",
       "      <td>NaN</td>\n",
       "      <td>NaN</td>\n",
       "    </tr>\n",
       "    <tr>\n",
       "      <th>1</th>\n",
       "      <td>United Kingdom</td>\n",
       "      <td>NaN</td>\n",
       "      <td>489597</td>\n",
       "      <td>8.65</td>\n",
       "      <td>22130</td>\n",
       "      <td>1.0</td>\n",
       "      <td>2017</td>\n",
       "      <td>11</td>\n",
       "      <td>28</td>\n",
       "      <td>NaN</td>\n",
       "      <td>NaN</td>\n",
       "      <td>NaN</td>\n",
       "    </tr>\n",
       "    <tr>\n",
       "      <th>2</th>\n",
       "      <td>United Kingdom</td>\n",
       "      <td>NaN</td>\n",
       "      <td>489597</td>\n",
       "      <td>1.70</td>\n",
       "      <td>22132</td>\n",
       "      <td>6.0</td>\n",
       "      <td>2017</td>\n",
       "      <td>11</td>\n",
       "      <td>28</td>\n",
       "      <td>NaN</td>\n",
       "      <td>NaN</td>\n",
       "      <td>NaN</td>\n",
       "    </tr>\n",
       "    <tr>\n",
       "      <th>3</th>\n",
       "      <td>United Kingdom</td>\n",
       "      <td>NaN</td>\n",
       "      <td>489597</td>\n",
       "      <td>1.70</td>\n",
       "      <td>22133</td>\n",
       "      <td>4.0</td>\n",
       "      <td>2017</td>\n",
       "      <td>11</td>\n",
       "      <td>28</td>\n",
       "      <td>NaN</td>\n",
       "      <td>NaN</td>\n",
       "      <td>NaN</td>\n",
       "    </tr>\n",
       "    <tr>\n",
       "      <th>4</th>\n",
       "      <td>United Kingdom</td>\n",
       "      <td>NaN</td>\n",
       "      <td>489597</td>\n",
       "      <td>0.87</td>\n",
       "      <td>22134</td>\n",
       "      <td>1.0</td>\n",
       "      <td>2017</td>\n",
       "      <td>11</td>\n",
       "      <td>28</td>\n",
       "      <td>NaN</td>\n",
       "      <td>NaN</td>\n",
       "      <td>NaN</td>\n",
       "    </tr>\n",
       "  </tbody>\n",
       "</table>\n",
       "</div>"
      ],
      "text/plain": [
       "          country  customer_id invoice  price stream_id  times_viewed  year  \\\n",
       "0  United Kingdom      13085.0  489434   6.95     85048          12.0  2017   \n",
       "1  United Kingdom          NaN  489597   8.65     22130           1.0  2017   \n",
       "2  United Kingdom          NaN  489597   1.70     22132           6.0  2017   \n",
       "3  United Kingdom          NaN  489597   1.70     22133           4.0  2017   \n",
       "4  United Kingdom          NaN  489597   0.87     22134           1.0  2017   \n",
       "\n",
       "   month  day  price stream_id  times_viewed  \n",
       "0     11   28    NaN       NaN           NaN  \n",
       "1     11   28    NaN       NaN           NaN  \n",
       "2     11   28    NaN       NaN           NaN  \n",
       "3     11   28    NaN       NaN           NaN  \n",
       "4     11   28    NaN       NaN           NaN  "
      ]
     },
     "execution_count": 11,
     "metadata": {},
     "output_type": "execute_result"
    }
   ],
   "source": [
    "df.head()"
   ]
  },
  {
   "cell_type": "code",
   "execution_count": 39,
   "metadata": {},
   "outputs": [
    {
     "name": "stdout",
     "output_type": "stream",
     "text": [
      "Date range 2017-11-28 00:00:00 -- 2019-07-31 00:00:00\n",
      "country nunique: 43\n",
      "invoice nunique: 42646\n",
      "customer_id nunique: 5225\n",
      "stream_id nunique: 5007\n"
     ]
    },
    {
     "data": {
      "text/html": [
       "<div>\n",
       "<style scoped>\n",
       "    .dataframe tbody tr th:only-of-type {\n",
       "        vertical-align: middle;\n",
       "    }\n",
       "\n",
       "    .dataframe tbody tr th {\n",
       "        vertical-align: top;\n",
       "    }\n",
       "\n",
       "    .dataframe thead th {\n",
       "        text-align: right;\n",
       "    }\n",
       "</style>\n",
       "<table border=\"1\" class=\"dataframe\">\n",
       "  <thead>\n",
       "    <tr style=\"text-align: right;\">\n",
       "      <th></th>\n",
       "      <th>date</th>\n",
       "      <th>price</th>\n",
       "      <th>times_viewed</th>\n",
       "      <th>stream_id</th>\n",
       "      <th>country</th>\n",
       "      <th>customer_id</th>\n",
       "      <th>invoice</th>\n",
       "    </tr>\n",
       "  </thead>\n",
       "  <tbody>\n",
       "    <tr>\n",
       "      <th>0</th>\n",
       "      <td>2017-11-28</td>\n",
       "      <td>6.95</td>\n",
       "      <td>12</td>\n",
       "      <td>85048</td>\n",
       "      <td>United Kingdom</td>\n",
       "      <td>13085.0</td>\n",
       "      <td>489434</td>\n",
       "    </tr>\n",
       "    <tr>\n",
       "      <th>1</th>\n",
       "      <td>2017-11-28</td>\n",
       "      <td>8.65</td>\n",
       "      <td>1</td>\n",
       "      <td>22130</td>\n",
       "      <td>United Kingdom</td>\n",
       "      <td>NaN</td>\n",
       "      <td>489597</td>\n",
       "    </tr>\n",
       "    <tr>\n",
       "      <th>2</th>\n",
       "      <td>2017-11-28</td>\n",
       "      <td>1.70</td>\n",
       "      <td>6</td>\n",
       "      <td>22132</td>\n",
       "      <td>United Kingdom</td>\n",
       "      <td>NaN</td>\n",
       "      <td>489597</td>\n",
       "    </tr>\n",
       "    <tr>\n",
       "      <th>3</th>\n",
       "      <td>2017-11-28</td>\n",
       "      <td>1.70</td>\n",
       "      <td>4</td>\n",
       "      <td>22133</td>\n",
       "      <td>United Kingdom</td>\n",
       "      <td>NaN</td>\n",
       "      <td>489597</td>\n",
       "    </tr>\n",
       "    <tr>\n",
       "      <th>4</th>\n",
       "      <td>2017-11-28</td>\n",
       "      <td>0.87</td>\n",
       "      <td>1</td>\n",
       "      <td>22134</td>\n",
       "      <td>United Kingdom</td>\n",
       "      <td>NaN</td>\n",
       "      <td>489597</td>\n",
       "    </tr>\n",
       "  </tbody>\n",
       "</table>\n",
       "</div>"
      ],
      "text/plain": [
       "        date  price  times_viewed stream_id         country customer_id  \\\n",
       "0 2017-11-28   6.95            12     85048  United Kingdom     13085.0   \n",
       "1 2017-11-28   8.65             1     22130  United Kingdom         NaN   \n",
       "2 2017-11-28   1.70             6     22132  United Kingdom         NaN   \n",
       "3 2017-11-28   1.70             4     22133  United Kingdom         NaN   \n",
       "4 2017-11-28   0.87             1     22134  United Kingdom         NaN   \n",
       "\n",
       "  invoice  \n",
       "0  489434  \n",
       "1  489597  \n",
       "2  489597  \n",
       "3  489597  \n",
       "4  489597  "
      ]
     },
     "execution_count": 39,
     "metadata": {},
     "output_type": "execute_result"
    }
   ],
   "source": [
    "df = pd.DataFrame()\n",
    "\n",
    "data_filenames = [f for f in os.listdir(DATA_DIR_TRAIN) if os.path.isfile(os.path.join(DATA_DIR_TRAIN, f))]\n",
    "data_filenames = sorted(data_filenames)\n",
    "\n",
    "for filename in data_filenames:\n",
    "    invoice_filename = os.path.join(DATA_DIR, filename)   \n",
    "    _df = pd.read_json(invoice_filename)\n",
    "    _df = _df.rename(columns={\n",
    "        'total_price': 'price',\n",
    "        'StreamID': 'stream_id',\n",
    "        'TimesViewed': 'times_viewed'\n",
    "    })\n",
    "    df = df.append(_df)\n",
    "\n",
    "# Set types\n",
    "for _col in ['year', 'month', 'day']:\n",
    "    df[_col] = df[_col].astype('str')\n",
    "df[\"date\"] = pd.to_datetime(df['year']+'-'+df['month']+'-'+df['day'])\n",
    "\n",
    "for _col in ['country', 'invoice', 'customer_id', 'stream_id']:\n",
    "    df[_col] = df[_col].astype('category')\n",
    "\n",
    "df = df[['date', 'price', 'times_viewed', 'stream_id', 'country', 'customer_id', 'invoice']]\n",
    "\n",
    "# Remove outliers\n",
    "# outlier_borders = [df['price'].quantile(0.01), df['price'].quantile(0.99)]\n",
    "# df = df[df['price'].apply(lambda x: outlier_borders[0]<x<outlier_borders[1])]\n",
    "    \n",
    "print('Date range {} -- {}'.format(df['date'].min(), df['date'].max()))\n",
    "for _col in ['country', 'invoice', 'customer_id', 'stream_id']:\n",
    "    print('{} nunique: {}'.format(_col, df[_col].nunique()))\n",
    "    \n",
    "df.head()"
   ]
  },
  {
   "cell_type": "code",
   "execution_count": 40,
   "metadata": {},
   "outputs": [
    {
     "data": {
      "text/html": [
       "<div>\n",
       "<style scoped>\n",
       "    .dataframe tbody tr th:only-of-type {\n",
       "        vertical-align: middle;\n",
       "    }\n",
       "\n",
       "    .dataframe tbody tr th {\n",
       "        vertical-align: top;\n",
       "    }\n",
       "\n",
       "    .dataframe thead th {\n",
       "        text-align: right;\n",
       "    }\n",
       "</style>\n",
       "<table border=\"1\" class=\"dataframe\">\n",
       "  <thead>\n",
       "    <tr style=\"text-align: right;\">\n",
       "      <th></th>\n",
       "      <th>price</th>\n",
       "      <th>times_viewed</th>\n",
       "    </tr>\n",
       "  </thead>\n",
       "  <tbody>\n",
       "    <tr>\n",
       "      <th>count</th>\n",
       "      <td>815011.000000</td>\n",
       "      <td>815011.000000</td>\n",
       "    </tr>\n",
       "    <tr>\n",
       "      <th>mean</th>\n",
       "      <td>4.802631</td>\n",
       "      <td>5.231106</td>\n",
       "    </tr>\n",
       "    <tr>\n",
       "      <th>std</th>\n",
       "      <td>135.058707</td>\n",
       "      <td>5.109982</td>\n",
       "    </tr>\n",
       "    <tr>\n",
       "      <th>min</th>\n",
       "      <td>-53594.360000</td>\n",
       "      <td>0.000000</td>\n",
       "    </tr>\n",
       "    <tr>\n",
       "      <th>25%</th>\n",
       "      <td>1.250000</td>\n",
       "      <td>1.000000</td>\n",
       "    </tr>\n",
       "    <tr>\n",
       "      <th>50%</th>\n",
       "      <td>2.100000</td>\n",
       "      <td>3.000000</td>\n",
       "    </tr>\n",
       "    <tr>\n",
       "      <th>75%</th>\n",
       "      <td>4.210000</td>\n",
       "      <td>8.000000</td>\n",
       "    </tr>\n",
       "    <tr>\n",
       "      <th>max</th>\n",
       "      <td>38970.000000</td>\n",
       "      <td>24.000000</td>\n",
       "    </tr>\n",
       "  </tbody>\n",
       "</table>\n",
       "</div>"
      ],
      "text/plain": [
       "               price   times_viewed\n",
       "count  815011.000000  815011.000000\n",
       "mean        4.802631       5.231106\n",
       "std       135.058707       5.109982\n",
       "min    -53594.360000       0.000000\n",
       "25%         1.250000       1.000000\n",
       "50%         2.100000       3.000000\n",
       "75%         4.210000       8.000000\n",
       "max     38970.000000      24.000000"
      ]
     },
     "execution_count": 40,
     "metadata": {},
     "output_type": "execute_result"
    }
   ],
   "source": [
    "df.describe()"
   ]
  },
  {
   "cell_type": "code",
   "execution_count": 41,
   "metadata": {},
   "outputs": [
    {
     "name": "stdout",
     "output_type": "stream",
     "text": [
      "After removing outliers.\n",
      "Date range 2017-11-28 00:00:00 -- 2019-07-31 00:00:00\n",
      "country nunique: 43\n",
      "invoice nunique: 37128\n",
      "customer_id nunique: 5160\n",
      "stream_id nunique: 4543\n"
     ]
    }
   ],
   "source": [
    "# Remove outliers\n",
    "outlier_borders = [df['price'].quantile(0.01), df['price'].quantile(0.99)]\n",
    "df = df[df['price'].apply(lambda x: outlier_borders[0]<x<outlier_borders[1])]\n",
    "\n",
    "print('After removing outliers.')\n",
    "print('Date range {} -- {}'.format(df['date'].min(), df['date'].max()))\n",
    "for _col in ['country', 'invoice', 'customer_id', 'stream_id']:\n",
    "    print('{} nunique: {}'.format(_col, df[_col].nunique()))"
   ]
  },
  {
   "cell_type": "code",
   "execution_count": 42,
   "metadata": {},
   "outputs": [
    {
     "data": {
      "image/png": "[encoded data removed]",
      "text/plain": [
       "<Figure size 1800x720 with 2 Axes>"
      ]
     },
     "metadata": {
      "needs_background": "light"
     },
     "output_type": "display_data"
    }
   ],
   "source": [
    "msno.matrix(df)\n",
    "plt.show()"
   ]
  },
  {
   "cell_type": "code",
   "execution_count": 43,
   "metadata": {},
   "outputs": [
    {
     "data": {
      "text/plain": [
       "537434    1316\n",
       "538071    1270\n",
       "537638    1178\n",
       "537823    1168\n",
       "537237    1164\n",
       "          ... \n",
       "530871       0\n",
       "500027       0\n",
       "530870       0\n",
       "530869       0\n",
       "536554       0\n",
       "Name: invoice, Length: 42646, dtype: int64"
      ]
     },
     "execution_count": 43,
     "metadata": {},
     "output_type": "execute_result"
    }
   ],
   "source": [
    "df['invoice'].value_counts()"
   ]
  },
  {
   "cell_type": "code",
   "execution_count": 57,
   "metadata": {},
   "outputs": [
    {
     "data": {
      "image/png": "[encoded data removed]",
      "text/plain": [
       "<Figure size 432x288 with 1 Axes>"
      ]
     },
     "metadata": {
      "needs_background": "light"
     },
     "output_type": "display_data"
    },
    {
     "data": {
      "image/png": "[encoded data removed]",
      "text/plain": [
       "<Figure size 432x288 with 1 Axes>"
      ]
     },
     "metadata": {
      "needs_background": "light"
     },
     "output_type": "display_data"
    }
   ],
   "source": [
    "sns.distplot(df['price'], bins=10)\n",
    "plt.show()\n",
    "\n",
    "sns.distplot(df['date'], bins=10)\n",
    "plt.show()"
   ]
  },
  {
   "cell_type": "code",
   "execution_count": 47,
   "metadata": {},
   "outputs": [
    {
     "data": {
      "image/png": "[encoded data removed]",
      "text/plain": [
       "<Figure size 360x360 with 1 Axes>"
      ]
     },
     "metadata": {
      "needs_background": "light"
     },
     "output_type": "display_data"
    }
   ],
   "source": [
    "g = sns.relplot(x='date', y='price', data=df.groupby(pd.Grouper(key='date', freq='B')).sum().reset_index(), kind='line')\n",
    "g.fig.autofmt_xdate()"
   ]
  },
  {
   "cell_type": "code",
   "execution_count": 53,
   "metadata": {},
   "outputs": [
    {
     "data": {
      "text/html": [
       "<div>\n",
       "<style scoped>\n",
       "    .dataframe tbody tr th:only-of-type {\n",
       "        vertical-align: middle;\n",
       "    }\n",
       "\n",
       "    .dataframe tbody tr th {\n",
       "        vertical-align: top;\n",
       "    }\n",
       "\n",
       "    .dataframe thead th {\n",
       "        text-align: right;\n",
       "    }\n",
       "</style>\n",
       "<table border=\"1\" class=\"dataframe\">\n",
       "  <thead>\n",
       "    <tr style=\"text-align: right;\">\n",
       "      <th></th>\n",
       "      <th>country</th>\n",
       "      <th>revenue</th>\n",
       "    </tr>\n",
       "  </thead>\n",
       "  <tbody>\n",
       "    <tr>\n",
       "      <th>0</th>\n",
       "      <td>United Kingdom</td>\n",
       "      <td>2.394573e+06</td>\n",
       "    </tr>\n",
       "    <tr>\n",
       "      <th>1</th>\n",
       "      <td>EIRE</td>\n",
       "      <td>4.548577e+04</td>\n",
       "    </tr>\n",
       "    <tr>\n",
       "      <th>2</th>\n",
       "      <td>Germany</td>\n",
       "      <td>4.347583e+04</td>\n",
       "    </tr>\n",
       "    <tr>\n",
       "      <th>3</th>\n",
       "      <td>France</td>\n",
       "      <td>3.065637e+04</td>\n",
       "    </tr>\n",
       "    <tr>\n",
       "      <th>4</th>\n",
       "      <td>Netherlands</td>\n",
       "      <td>9.845600e+03</td>\n",
       "    </tr>\n",
       "  </tbody>\n",
       "</table>\n",
       "</div>"
      ],
      "text/plain": [
       "          country       revenue\n",
       "0  United Kingdom  2.394573e+06\n",
       "1            EIRE  4.548577e+04\n",
       "2         Germany  4.347583e+04\n",
       "3          France  3.065637e+04\n",
       "4     Netherlands  9.845600e+03"
      ]
     },
     "execution_count": 53,
     "metadata": {},
     "output_type": "execute_result"
    }
   ],
   "source": [
    "revenue_by_country = df[['country', 'price']].groupby('country').sum().sort_values('price', ascending=False)\n",
    "revenue_by_country = revenue_by_country.rename(columns={'price': 'revenue'})\n",
    "revenue_by_country = revenue_by_country.reset_index()\n",
    "revenue_by_country.head()"
   ]
  },
  {
   "cell_type": "code",
   "execution_count": 54,
   "metadata": {},
   "outputs": [
    {
     "data": {
      "text/plain": [
       "United Kingdom          733290\n",
       "Germany                  13198\n",
       "EIRE                     13194\n",
       "France                    9734\n",
       "Netherlands               3995\n",
       "Spain                     2507\n",
       "Switzerland               2257\n",
       "Belgium                   2143\n",
       "Portugal                  1760\n",
       "Australia                 1534\n",
       "Channel Islands           1253\n",
       "Sweden                    1100\n",
       "Italy                     1019\n",
       "Cyprus                     892\n",
       "Norway                     770\n",
       "Finland                    720\n",
       "Austria                    680\n",
       "Greece                     616\n",
       "Unspecified                609\n",
       "Denmark                    591\n",
       "Japan                      510\n",
       "United Arab Emirates       449\n",
       "Poland                     424\n",
       "Singapore                  295\n",
       "Hong Kong                  269\n",
       "USA                        263\n",
       "Canada                     219\n",
       "Malta                      213\n",
       "Iceland                    195\n",
       "Lithuania                  188\n",
       "Israel                     139\n",
       "Bahrain                    126\n",
       "RSA                        109\n",
       "Brazil                      93\n",
       "Thailand                    76\n",
       "Korea                       62\n",
       "European Community          61\n",
       "Lebanon                     56\n",
       "West Indies                 47\n",
       "Bermuda                     32\n",
       "Nigeria                     31\n",
       "Czech Republic              17\n",
       "Saudi Arabia                10\n",
       "Name: country, dtype: int64"
      ]
     },
     "execution_count": 54,
     "metadata": {},
     "output_type": "execute_result"
    }
   ],
   "source": [
    "df['country'].value_counts()"
   ]
  },
  {
   "cell_type": "code",
   "execution_count": null,
   "metadata": {},
   "outputs": [],
   "source": []
  }
 ],
 "metadata": {
  "kernelspec": {
   "display_name": "Python 3",
   "language": "python",
   "name": "python3"
  },
  "language_info": {
   "codemirror_mode": {
    "name": "ipython",
    "version": 3
   },
   "file_extension": ".py",
   "mimetype": "text/x-python",
   "name": "python",
   "nbconvert_exporter": "python",
   "pygments_lexer": "ipython3",
   "version": "3.9.5"
  }
 },
 "nbformat": 4,
 "nbformat_minor": 4
}
