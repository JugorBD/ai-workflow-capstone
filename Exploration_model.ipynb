{
 "cells": [
  {
   "cell_type": "code",
   "execution_count": 5,
   "metadata": {},
   "outputs": [],
   "source": [
    "import os\n",
    "import time\n",
    "import numpy as np\n",
    "\n",
    "from model.model import model_load\n",
    "from model.model import model_predict\n",
    "\n",
    "from model.cslib import fetch_ts, engineer_features\n",
    "\n",
    "from sklearn.model_selection import train_test_split, GridSearchCV\n",
    "from sklearn.pipeline import Pipeline\n",
    "from sklearn.ensemble import RandomForestRegressor, GradientBoostingRegressor\n",
    "from sklearn.tree import DecisionTreeRegressor\n",
    "from sklearn.preprocessing import StandardScaler\n",
    "\n",
    "from sklearn.metrics import mean_absolute_error, mean_squared_error, mean_absolute_percentage_error, r2_score"
   ]
  },
  {
   "cell_type": "code",
   "execution_count": 2,
   "metadata": {},
   "outputs": [
    {
     "name": "stdout",
     "output_type": "stream",
     "text": [
      "... loading ts data from files\n"
     ]
    }
   ],
   "source": [
    "data_dir = os.path.join(\"data\",\"cs-train\")\n",
    "\n",
    "ts_all = fetch_ts(data_dir,clean=False)"
   ]
  },
  {
   "cell_type": "code",
   "execution_count": 6,
   "metadata": {},
   "outputs": [],
   "source": [
    "metrics = {\n",
    "    'r2': r2_score,\n",
    "    'mae': mean_absolute_error,\n",
    "    'mape': mean_absolute_percentage_error,\n",
    "    'mse': mean_squared_error\n",
    "}"
   ]
  },
  {
   "cell_type": "code",
   "execution_count": 3,
   "metadata": {},
   "outputs": [],
   "source": [
    "X,y,dates = engineer_features(ts_all['all'])\n",
    "        \n",
    "## Perform a train-test split\n",
    "X_train, X_test, y_train, y_test = train_test_split(X, y, test_size=0.25, shuffle=True, random_state=42)"
   ]
  },
  {
   "cell_type": "code",
   "execution_count": 14,
   "metadata": {},
   "outputs": [
    {
     "data": {
      "text/plain": [
       "{'fit_time': '00:00:01',\n",
       " 'best_param': {'model__criterion': 'mse', 'model__n_estimators': 50},\n",
       " 'model': 'RandomForestRegressor()',\n",
       " 'metrics': {'r2': 0.9617302584168695,\n",
       "  'mae': 11318.618091304337,\n",
       "  'mape': 0.06431629529186617,\n",
       "  'mse': 251075873.50874883}}"
      ]
     },
     "execution_count": 14,
     "metadata": {},
     "output_type": "execute_result"
    }
   ],
   "source": [
    "model_metadata = dict()\n",
    "\n",
    "param_grid = {\n",
    "    'model__criterion': ['mse','mae'],\n",
    "    'model__n_estimators': [10,15,20,25,50,100]\n",
    "    }\n",
    "\n",
    "time_start = time.time()\n",
    "pipeline = Pipeline(steps=[('scaler', StandardScaler()), ('model', RandomForestRegressor())])\n",
    "\n",
    "grid = GridSearchCV(pipeline, param_grid=param_grid, cv=5, n_jobs=-1)\n",
    "grid.fit(X_train, y_train)\n",
    "model_metadata['fit_time'] = time.strftime('%H:%M:%S', time.gmtime(time.time()-time_start))\n",
    "model_metadata['best_param'] = grid.best_params_\n",
    "model_metadata['model'] = str(pipeline['model'])\n",
    "\n",
    "y_pred = grid.predict(X_test)\n",
    "model_metadata['metrics'] = dict()\n",
    "for _metric in metrics.keys():\n",
    "    model_metadata['metrics'][_metric] = metrics[_metric](y_test, y_pred)\n",
    "\n",
    "model_metadata"
   ]
  },
  {
   "cell_type": "code",
   "execution_count": 15,
   "metadata": {},
   "outputs": [
    {
     "data": {
      "text/plain": [
       "{'fit_time': '00:00:05',\n",
       " 'best_param': {'model__criterion': 'friedman_mse',\n",
       "  'model__learning_rate': 0.05,\n",
       "  'model__loss': 'ls',\n",
       "  'model__n_estimators': 150},\n",
       " 'model': 'GradientBoostingRegressor()',\n",
       " 'metrics': {'r2': 0.9180209272573785,\n",
       "  'mae': 17618.50374574912,\n",
       "  'mape': 0.10293284456508923,\n",
       "  'mse': 537839202.6395093}}"
      ]
     },
     "execution_count": 15,
     "metadata": {},
     "output_type": "execute_result"
    }
   ],
   "source": [
    "model_metadata = dict()\n",
    "\n",
    "param_grid = {\n",
    "    'model__criterion': ['friedman_mse','mae'],\n",
    "    'model__n_estimators': [10,25,70,150],\n",
    "    'model__learning_rate': [0.01, 0.05],\n",
    "    'model__loss': ['lad', 'ls']\n",
    "    }\n",
    "\n",
    "time_start = time.time()\n",
    "pipeline = Pipeline(steps=[('scaler', StandardScaler()), ('model', GradientBoostingRegressor())])\n",
    "\n",
    "grid = GridSearchCV(pipeline, param_grid=param_grid, cv=5, n_jobs=-1)\n",
    "grid.fit(X_train, y_train)\n",
    "model_metadata['fit_time'] = time.strftime('%H:%M:%S', time.gmtime(time.time()-time_start))\n",
    "model_metadata['best_param'] = grid.best_params_\n",
    "model_metadata['model'] = str(pipeline['model'])\n",
    "\n",
    "y_pred = grid.predict(X_test)\n",
    "model_metadata['metrics'] = dict()\n",
    "for _metric in metrics.keys():\n",
    "    model_metadata['metrics'][_metric] = metrics[_metric](y_test, y_pred)\n",
    "\n",
    "model_metadata"
   ]
  },
  {
   "cell_type": "code",
   "execution_count": 16,
   "metadata": {},
   "outputs": [
    {
     "data": {
      "text/plain": [
       "{'fit_time': '00:00:00',\n",
       " 'best_param': {'model__criterion': 'mse',\n",
       "  'model__max_depth': 20,\n",
       "  'model__min_samples_leaf': 2},\n",
       " 'model': 'DecisionTreeRegressor()',\n",
       " 'metrics': {'r2': 0.9357708759896458,\n",
       "  'mae': 11778.131530193237,\n",
       "  'mape': 0.06243777231006749,\n",
       "  'mse': 421387308.8369653}}"
      ]
     },
     "execution_count": 16,
     "metadata": {},
     "output_type": "execute_result"
    }
   ],
   "source": [
    "model_metadata = dict()\n",
    "\n",
    "param_grid = {\n",
    "    'model__criterion': ['mse','mae'],\n",
    "    'model__max_depth': [5,10,20,50],\n",
    "    'model__min_samples_leaf': [1,2,3,4,5]\n",
    "    }\n",
    "\n",
    "time_start = time.time()\n",
    "pipeline = Pipeline(steps=[('scaler', StandardScaler()), ('model', DecisionTreeRegressor())])\n",
    "\n",
    "grid = GridSearchCV(pipeline, param_grid=param_grid, cv=5, n_jobs=-1)\n",
    "grid.fit(X_train, y_train)\n",
    "model_metadata['fit_time'] = time.strftime('%H:%M:%S', time.gmtime(time.time()-time_start))\n",
    "model_metadata['best_param'] = grid.best_params_\n",
    "model_metadata['model'] = str(pipeline['model'])\n",
    "\n",
    "y_pred = grid.predict(X_test)\n",
    "model_metadata['metrics'] = dict()\n",
    "for _metric in metrics.keys():\n",
    "    model_metadata['metrics'][_metric] = metrics[_metric](y_test, y_pred)\n",
    "\n",
    "model_metadata"
   ]
  },
  {
   "cell_type": "markdown",
   "metadata": {},
   "source": [
    "Decided to continue with RF model."
   ]
  },
  {
   "cell_type": "code",
   "execution_count": null,
   "metadata": {},
   "outputs": [],
   "source": []
  }
 ],
 "metadata": {
  "kernelspec": {
   "display_name": "Python 3",
   "language": "python",
   "name": "python3"
  },
  "language_info": {
   "codemirror_mode": {
    "name": "ipython",
    "version": 3
   },
   "file_extension": ".py",
   "mimetype": "text/x-python",
   "name": "python",
   "nbconvert_exporter": "python",
   "pygments_lexer": "ipython3",
   "version": "3.9.5"
  }
 },
 "nbformat": 4,
 "nbformat_minor": 4
}
